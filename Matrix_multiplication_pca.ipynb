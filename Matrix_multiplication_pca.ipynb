{
  "nbformat": 4,
  "nbformat_minor": 0,
  "metadata": {
    "colab": {
      "provenance": [],
      "gpuType": "T4",
      "authorship_tag": "ABX9TyOHfSyvA6abuXxfvk9F3AIo",
      "include_colab_link": true
    },
    "kernelspec": {
      "name": "python3",
      "display_name": "Python 3"
    },
    "language_info": {
      "name": "python"
    },
    "accelerator": "GPU"
  },
  "cells": [
    {
      "cell_type": "markdown",
      "metadata": {
        "id": "view-in-github",
        "colab_type": "text"
      },
      "source": [
        "<a href=\"https://colab.research.google.com/github/BaskaranV15/PCA-EXP-5-MATRIX-MULTIPLICATION-USING-CUDA-AY-23-24/blob/main/Matrix_multiplication_pca.ipynb\" target=\"_parent\"><img src=\"https://colab.research.google.com/assets/colab-badge.svg\" alt=\"Open In Colab\"/></a>"
      ]
    },
    {
      "cell_type": "code",
      "source": [
        "!pip install git+https://github.com/andreinechaev/nvcc4jupyter.git\n",
        "%load_ext nvcc4jupyter\n"
      ],
      "metadata": {
        "colab": {
          "base_uri": "https://localhost:8080/"
        },
        "id": "UArJpjbFU3Aj",
        "outputId": "c11c826f-4fe7-4209-ad07-f9ae8ae05c69"
      },
      "execution_count": 3,
      "outputs": [
        {
          "output_type": "stream",
          "name": "stdout",
          "text": [
            "Collecting git+https://github.com/andreinechaev/nvcc4jupyter.git\n",
            "  Cloning https://github.com/andreinechaev/nvcc4jupyter.git to /tmp/pip-req-build-hj1fbslo\n",
            "  Running command git clone --filter=blob:none --quiet https://github.com/andreinechaev/nvcc4jupyter.git /tmp/pip-req-build-hj1fbslo\n",
            "  Resolved https://github.com/andreinechaev/nvcc4jupyter.git to commit 28f872a2f99a1b201bcd0db14fdbc5a496b9bfd7\n",
            "  Installing build dependencies ... \u001b[?25l\u001b[?25hdone\n",
            "  Getting requirements to build wheel ... \u001b[?25l\u001b[?25hdone\n",
            "  Preparing metadata (pyproject.toml) ... \u001b[?25l\u001b[?25hdone\n",
            "Detected platform \"Colab\". Running its setup...\n",
            "Source files will be saved in \"/tmp/tmpb6f5t_2f\".\n"
          ]
        }
      ]
    },
    {
      "cell_type": "code",
      "source": [
        "%%writefile matmul.cu\n",
        "#include <stdio.h>\n",
        "#include <cuda_runtime.h>\n",
        "#include <cuda.h>\n",
        "#include <sys/time.h>\n",
        "\n",
        "#ifndef _COMMON_H\n",
        "#define _COMMON_H\n",
        "\n",
        "#define CHECK(call)                                                            \\\n",
        "{                                                                              \\\n",
        "    const cudaError_t error = call;                                            \\\n",
        "    if (error != cudaSuccess)                                                  \\\n",
        "    {                                                                          \\\n",
        "        fprintf(stderr, \"Error: %s:%d, \", __FILE__, __LINE__);                 \\\n",
        "        fprintf(stderr, \"code: %d, reason: %s\\n\", error,                       \\\n",
        "                cudaGetErrorString(error));                                    \\\n",
        "        exit(1);                                                               \\\n",
        "    }                                                                          \\\n",
        "}\n",
        "\n",
        "#define CHECK_CUBLAS(call)                                                     \\\n",
        "{                                                                              \\\n",
        "    cublasStatus_t err;                                                        \\\n",
        "    if ((err = (call)) != CUBLAS_STATUS_SUCCESS)                               \\\n",
        "    {                                                                          \\\n",
        "        fprintf(stderr, \"Got CUBLAS error %d at %s:%d\\n\", err, __FILE__,       \\\n",
        "                __LINE__);                                                     \\\n",
        "        exit(1);                                                               \\\n",
        "    }                                                                          \\\n",
        "}\n",
        "\n",
        "#define CHECK_CURAND(call)                                                     \\\n",
        "{                                                                              \\\n",
        "    curandStatus_t err;                                                        \\\n",
        "    if ((err = (call)) != CURAND_STATUS_SUCCESS)                               \\\n",
        "    {                                                                          \\\n",
        "        fprintf(stderr, \"Got CURAND error %d at %s:%d\\n\", err, __FILE__,       \\\n",
        "                __LINE__);                                                     \\\n",
        "        exit(1);                                                               \\\n",
        "    }                                                                          \\\n",
        "}\n",
        "\n",
        "#define CHECK_CUFFT(call)                                                      \\\n",
        "{                                                                              \\\n",
        "    cufftResult err;                                                           \\\n",
        "    if ( (err = (call)) != CUFFT_SUCCESS)                                      \\\n",
        "    {                                                                          \\\n",
        "        fprintf(stderr, \"Got CUFFT error %d at %s:%d\\n\", err, __FILE__,        \\\n",
        "                __LINE__);                                                     \\\n",
        "        exit(1);                                                               \\\n",
        "    }                                                                          \\\n",
        "}\n",
        "\n",
        "#define CHECK_CUSPARSE(call)                                                   \\\n",
        "{                                                                              \\\n",
        "    cusparseStatus_t err;                                                      \\\n",
        "    if ((err = (call)) != CUSPARSE_STATUS_SUCCESS)                             \\\n",
        "    {                                                                          \\\n",
        "        fprintf(stderr, \"Got error %d at %s:%d\\n\", err, __FILE__, __LINE__);   \\\n",
        "        cudaError_t cuda_err = cudaGetLastError();                             \\\n",
        "        if (cuda_err != cudaSuccess)                                           \\\n",
        "        {                                                                      \\\n",
        "            fprintf(stderr, \"  CUDA error \\\"%s\\\" also detected\\n\",             \\\n",
        "                    cudaGetErrorString(cuda_err));                             \\\n",
        "        }                                                                      \\\n",
        "        exit(1);                                                               \\\n",
        "    }                                                                          \\\n",
        "}\n",
        "\n",
        "inline double seconds()\n",
        "{\n",
        "    struct timeval tp;\n",
        "    struct timezone tzp;\n",
        "    int i = gettimeofday(&tp, &tzp);\n",
        "    return ((double)tp.tv_sec + (double)tp.tv_usec * 1.e-6);\n",
        "}\n",
        "\n",
        "#endif // _COMMON_H\n",
        "#define SIZE 4\n",
        "#define BLOCK_SIZE 2\n",
        "\n",
        "// Kernel function to perform matrix multiplication\n",
        "__global__ void matrixMultiply(int *a, int *b, int *c, int size)\n",
        "{\n",
        "    int row = blockIdx.y * blockDim.y + threadIdx.y;\n",
        "    int col = blockIdx.x * blockDim.x + threadIdx.x;\n",
        "\n",
        "    int sum = 0;\n",
        "    for (int k = 0; k < size; ++k)\n",
        "    {\n",
        "        sum += a[row * size + k] * b[k * size + col];\n",
        "    }\n",
        "    c[row * size + col] = sum;\n",
        "}\n",
        "int main()\n",
        "{\n",
        "    int a[SIZE][SIZE], b[SIZE][SIZE], c[SIZE][SIZE];\n",
        "    int *dev_a, *dev_b, *dev_c;\n",
        "    int size = SIZE * SIZE * sizeof(int);\n",
        "\n",
        "    // Initialize matrices 'a' and 'b'\n",
        "    for (int i = 0; i < SIZE; ++i)\n",
        "    {\n",
        "        for (int j = 0; j < SIZE; ++j)\n",
        "        {\n",
        "            a[i][j] = i + j;\n",
        "            b[i][j] = i - j;\n",
        "        }\n",
        "    }\n",
        "\n",
        "    // Allocate memory on the device\n",
        "    cudaMalloc((void**)&dev_a, size);\n",
        "    cudaMalloc((void**)&dev_b, size);\n",
        "    cudaMalloc((void**)&dev_c, size);\n",
        "\n",
        "    // Copy input matrices from host to device memory\n",
        "    cudaMemcpy(dev_a, a, size, cudaMemcpyHostToDevice);\n",
        "    cudaMemcpy(dev_b, b, size, cudaMemcpyHostToDevice);\n",
        "\n",
        "    // Set grid and block sizes\n",
        "    dim3 dimGrid(SIZE / BLOCK_SIZE, SIZE / BLOCK_SIZE);\n",
        "    dim3 dimBlock(BLOCK_SIZE, BLOCK_SIZE);\n",
        "\n",
        "    // Start timer\n",
        "    struct timeval start, end;\n",
        "    gettimeofday(&start, NULL);\n",
        "\n",
        "    // Launch kernel\n",
        "    matrixMultiply<<<dimGrid, dimBlock>>>(dev_a, dev_b, dev_c, SIZE);\n",
        "\n",
        "    // Copy result matrix from device to host memory\n",
        "    cudaMemcpy(c, dev_c, size, cudaMemcpyDeviceToHost);\n",
        "\n",
        "    // Stop timer\n",
        "    gettimeofday(&end, NULL);\n",
        "    double elapsed_time = (end.tv_sec - start.tv_sec) + (end.tv_usec - start.tv_usec) / 1000000.0;\n",
        "\n",
        "// Print the result matrix\n",
        "    printf(\"Result Matrix:\\n\");\n",
        "    for (int i = 0; i < SIZE; ++i)\n",
        "    {\n",
        "        for (int j = 0; j < SIZE; ++j)\n",
        "        {\n",
        "            printf(\"%d \", c[i][j]);\n",
        "        }\n",
        "        printf(\"\\n\");\n",
        "    }\n",
        "\n",
        "    // Print the elapsed time\n",
        "    printf(\"Elapsed Time: %.6f seconds\\n\", elapsed_time);\n",
        "\n",
        "    // Free device memory\n",
        "    cudaFree(dev_a);\n",
        "    cudaFree(dev_b);\n",
        "    cudaFree(dev_c);\n",
        "\n",
        "    return 0;\n",
        "}\n"
      ],
      "metadata": {
        "colab": {
          "base_uri": "https://localhost:8080/"
        },
        "id": "266fuCVMU36l",
        "outputId": "0ef07779-c538-4399-a605-5d63eea62911"
      },
      "execution_count": 13,
      "outputs": [
        {
          "output_type": "stream",
          "name": "stdout",
          "text": [
            "Overwriting matmul.cu\n"
          ]
        }
      ]
    },
    {
      "cell_type": "code",
      "source": [
        "!nvcc -o matmul matmul.cu"
      ],
      "metadata": {
        "id": "_Wd4bGXjVQCf"
      },
      "execution_count": 14,
      "outputs": []
    },
    {
      "cell_type": "code",
      "source": [
        "!./matmul"
      ],
      "metadata": {
        "colab": {
          "base_uri": "https://localhost:8080/"
        },
        "id": "-5Z6slexV3Hz",
        "outputId": "4dcac8cc-b575-4296-fcd7-677b880c19d1"
      },
      "execution_count": 15,
      "outputs": [
        {
          "output_type": "stream",
          "name": "stdout",
          "text": [
            "Result Matrix:\n",
            "14 8 2 -4 \n",
            "20 10 0 -10 \n",
            "26 12 -2 -16 \n",
            "32 14 -4 -22 \n",
            "Elapsed Time: 0.124763 seconds\n"
          ]
        }
      ]
    },
    {
      "cell_type": "code",
      "source": [
        "!nvprof ./matmul"
      ],
      "metadata": {
        "colab": {
          "base_uri": "https://localhost:8080/"
        },
        "id": "0YKutvdvV4tq",
        "outputId": "d9419921-1eec-4478-9de2-e49365b62ad5"
      },
      "execution_count": 16,
      "outputs": [
        {
          "output_type": "stream",
          "name": "stdout",
          "text": [
            "==2556== NVPROF is profiling process 2556, command: ./matmul\n",
            "Result Matrix:\n",
            "14 8 2 -4 \n",
            "20 10 0 -10 \n",
            "26 12 -2 -16 \n",
            "32 14 -4 -22 \n",
            "Elapsed Time: 0.000209 seconds\n",
            "==2556== Profiling application: ./matmul\n",
            "==2556== Profiling result:\n",
            "            Type  Time(%)      Time     Calls       Avg       Min       Max  Name\n",
            " GPU activities:   48.35%  3.7440us         1  3.7440us  3.7440us  3.7440us  matrixMultiply(int*, int*, int*, int)\n",
            "                   27.69%  2.1440us         1  2.1440us  2.1440us  2.1440us  [CUDA memcpy DtoH]\n",
            "                   23.97%  1.8560us         2     928ns     672ns  1.1840us  [CUDA memcpy HtoD]\n",
            "      API calls:   99.45%  95.147ms         3  31.716ms  5.4190us  95.135ms  cudaMalloc\n",
            "                    0.19%  185.83us         1  185.83us  185.83us  185.83us  cudaLaunchKernel\n",
            "                    0.16%  155.84us       114  1.3670us     146ns  71.668us  cuDeviceGetAttribute\n",
            "                    0.12%  111.03us         3  37.009us  4.8940us  96.417us  cudaFree\n",
            "                    0.05%  49.722us         3  16.574us  7.2470us  21.928us  cudaMemcpy\n",
            "                    0.01%  10.835us         1  10.835us  10.835us  10.835us  cuDeviceGetName\n",
            "                    0.01%  4.8510us         1  4.8510us  4.8510us  4.8510us  cuDeviceTotalMem\n",
            "                    0.00%  4.4620us         1  4.4620us  4.4620us  4.4620us  cuDeviceGetPCIBusId\n",
            "                    0.00%  2.4000us         2  1.2000us     179ns  2.2210us  cuDeviceGet\n",
            "                    0.00%  1.3920us         3     464ns     218ns     837ns  cuDeviceGetCount\n",
            "                    0.00%     575ns         1     575ns     575ns     575ns  cuModuleGetLoadingMode\n",
            "                    0.00%     263ns         1     263ns     263ns     263ns  cuDeviceGetUuid\n"
          ]
        }
      ]
    },
    {
      "cell_type": "code",
      "source": [
        "!nvprof --print-gpu-trace ./matmul"
      ],
      "metadata": {
        "colab": {
          "base_uri": "https://localhost:8080/"
        },
        "id": "LkL6C2UmV9B6",
        "outputId": "5da33e82-fce8-40eb-a63b-ce6d6352e2e7"
      },
      "execution_count": 17,
      "outputs": [
        {
          "output_type": "stream",
          "name": "stdout",
          "text": [
            "==2585== NVPROF is profiling process 2585, command: ./matmul\n",
            "Result Matrix:\n",
            "14 8 2 -4 \n",
            "20 10 0 -10 \n",
            "26 12 -2 -16 \n",
            "32 14 -4 -22 \n",
            "Elapsed Time: 0.000239 seconds\n",
            "==2585== Profiling application: ./matmul\n",
            "==2585== Profiling result:\n",
            "   Start  Duration            Grid Size      Block Size     Regs*    SSMem*    DSMem*      Size  Throughput  SrcMemType  DstMemType           Device   Context    Stream  Name\n",
            "215.46ms  1.1520us                    -               -         -         -         -       64B  52.982MB/s    Pageable      Device     Tesla T4 (0)         1         7  [CUDA memcpy HtoD]\n",
            "215.47ms     704ns                    -               -         -         -         -       64B  86.698MB/s    Pageable      Device     Tesla T4 (0)         1         7  [CUDA memcpy HtoD]\n",
            "215.69ms  3.6800us              (2 2 1)         (2 2 1)        49        0B        0B         -           -           -           -     Tesla T4 (0)         1         7  matrixMultiply(int*, int*, int*, int) [130]\n",
            "215.70ms  2.1110us                    -               -         -         -         -       64B  28.913MB/s      Device    Pageable     Tesla T4 (0)         1         7  [CUDA memcpy DtoH]\n",
            "\n",
            "Regs: Number of registers used per CUDA thread. This number includes registers used internally by the CUDA driver and/or tools and can be more than what the compiler shows.\n",
            "SSMem: Static shared memory allocated per CUDA block.\n",
            "DSMem: Dynamic shared memory allocated per CUDA block.\n",
            "SrcMemType: The type of source memory accessed by memory operation/copy\n",
            "DstMemType: The type of destination memory accessed by memory operation/copy\n"
          ]
        }
      ]
    },
    {
      "cell_type": "code",
      "source": [],
      "metadata": {
        "id": "f0a2_h2rWEzG"
      },
      "execution_count": null,
      "outputs": []
    }
  ]
}